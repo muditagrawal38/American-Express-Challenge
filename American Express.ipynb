{
 "cells": [
  {
   "cell_type": "markdown",
   "metadata": {},
   "source": [
    " # AD Click Prediction"
   ]
  },
  {
   "cell_type": "code",
   "execution_count": 1,
   "metadata": {},
   "outputs": [],
   "source": [
    "## importing libraries ##\n",
    "import pandas as pd\n",
    "import numpy as np\n",
    "import matplotlib.pyplot as plt\n",
    "import seaborn as sns\n",
    "from sklearn.preprocessing import StandardScaler, MinMaxScaler\n",
    "from sklearn.model_selection import StratifiedKFold, GridSearchCV , train_test_split\n",
    "from tqdm import tqdm_notebook\n",
    "import warnings\n",
    "from sklearn import metrics\n",
    "from sklearn.metrics import classification_report, confusion_matrix, roc_auc_score\n",
    "import gc\n",
    "import featuretools as ft\n",
    "warnings.filterwarnings('ignore')\n",
    "%matplotlib inline"
   ]
  },
  {
   "cell_type": "code",
   "execution_count": 2,
   "metadata": {},
   "outputs": [],
   "source": [
    "data = pd.read_csv('train data.csv', parse_dates= ['DateTime'])"
   ]
  },
  {
   "cell_type": "code",
   "execution_count": 3,
   "metadata": {},
   "outputs": [],
   "source": [
    "test = pd.read_csv('test data.csv', parse_dates = ['DateTime'])"
   ]
  },
  {
   "cell_type": "code",
   "execution_count": 4,
   "metadata": {},
   "outputs": [],
   "source": [
    "hist = pd.read_csv('historical_user_logs.csv', parse_dates= ['DateTime'])"
   ]
  },
  {
   "cell_type": "code",
   "execution_count": 5,
   "metadata": {},
   "outputs": [
    {
     "data": {
      "text/html": [
       "<div>\n",
       "<style scoped>\n",
       "    .dataframe tbody tr th:only-of-type {\n",
       "        vertical-align: middle;\n",
       "    }\n",
       "\n",
       "    .dataframe tbody tr th {\n",
       "        vertical-align: top;\n",
       "    }\n",
       "\n",
       "    .dataframe thead th {\n",
       "        text-align: right;\n",
       "    }\n",
       "</style>\n",
       "<table border=\"1\" class=\"dataframe\">\n",
       "  <thead>\n",
       "    <tr style=\"text-align: right;\">\n",
       "      <th></th>\n",
       "      <th>session_id</th>\n",
       "      <th>DateTime</th>\n",
       "      <th>user_id</th>\n",
       "      <th>product</th>\n",
       "      <th>campaign_id</th>\n",
       "      <th>webpage_id</th>\n",
       "      <th>product_category_1</th>\n",
       "      <th>product_category_2</th>\n",
       "      <th>user_group_id</th>\n",
       "      <th>gender</th>\n",
       "      <th>age_level</th>\n",
       "      <th>user_depth</th>\n",
       "      <th>city_development_index</th>\n",
       "      <th>var_1</th>\n",
       "      <th>is_click</th>\n",
       "    </tr>\n",
       "  </thead>\n",
       "  <tbody>\n",
       "    <tr>\n",
       "      <th>0</th>\n",
       "      <td>140690</td>\n",
       "      <td>2017-07-02 00:00:00</td>\n",
       "      <td>858557</td>\n",
       "      <td>C</td>\n",
       "      <td>359520</td>\n",
       "      <td>13787</td>\n",
       "      <td>4</td>\n",
       "      <td>NaN</td>\n",
       "      <td>10.0</td>\n",
       "      <td>Female</td>\n",
       "      <td>4.0</td>\n",
       "      <td>3.0</td>\n",
       "      <td>3.0</td>\n",
       "      <td>0</td>\n",
       "      <td>0</td>\n",
       "    </tr>\n",
       "    <tr>\n",
       "      <th>1</th>\n",
       "      <td>333291</td>\n",
       "      <td>2017-07-02 00:00:00</td>\n",
       "      <td>243253</td>\n",
       "      <td>C</td>\n",
       "      <td>105960</td>\n",
       "      <td>11085</td>\n",
       "      <td>5</td>\n",
       "      <td>NaN</td>\n",
       "      <td>8.0</td>\n",
       "      <td>Female</td>\n",
       "      <td>2.0</td>\n",
       "      <td>2.0</td>\n",
       "      <td>NaN</td>\n",
       "      <td>0</td>\n",
       "      <td>0</td>\n",
       "    </tr>\n",
       "    <tr>\n",
       "      <th>2</th>\n",
       "      <td>129781</td>\n",
       "      <td>2017-07-02 00:00:00</td>\n",
       "      <td>243253</td>\n",
       "      <td>C</td>\n",
       "      <td>359520</td>\n",
       "      <td>13787</td>\n",
       "      <td>4</td>\n",
       "      <td>NaN</td>\n",
       "      <td>8.0</td>\n",
       "      <td>Female</td>\n",
       "      <td>2.0</td>\n",
       "      <td>2.0</td>\n",
       "      <td>NaN</td>\n",
       "      <td>0</td>\n",
       "      <td>0</td>\n",
       "    </tr>\n",
       "    <tr>\n",
       "      <th>3</th>\n",
       "      <td>464848</td>\n",
       "      <td>2017-07-02 00:00:00</td>\n",
       "      <td>1097446</td>\n",
       "      <td>I</td>\n",
       "      <td>359520</td>\n",
       "      <td>13787</td>\n",
       "      <td>3</td>\n",
       "      <td>NaN</td>\n",
       "      <td>3.0</td>\n",
       "      <td>Male</td>\n",
       "      <td>3.0</td>\n",
       "      <td>3.0</td>\n",
       "      <td>2.0</td>\n",
       "      <td>1</td>\n",
       "      <td>0</td>\n",
       "    </tr>\n",
       "    <tr>\n",
       "      <th>4</th>\n",
       "      <td>90569</td>\n",
       "      <td>2017-07-02 00:01:00</td>\n",
       "      <td>663656</td>\n",
       "      <td>C</td>\n",
       "      <td>405490</td>\n",
       "      <td>60305</td>\n",
       "      <td>3</td>\n",
       "      <td>NaN</td>\n",
       "      <td>2.0</td>\n",
       "      <td>Male</td>\n",
       "      <td>2.0</td>\n",
       "      <td>3.0</td>\n",
       "      <td>2.0</td>\n",
       "      <td>1</td>\n",
       "      <td>0</td>\n",
       "    </tr>\n",
       "  </tbody>\n",
       "</table>\n",
       "</div>"
      ],
      "text/plain": [
       "   session_id            DateTime  user_id product  campaign_id  webpage_id  \\\n",
       "0      140690 2017-07-02 00:00:00   858557       C       359520       13787   \n",
       "1      333291 2017-07-02 00:00:00   243253       C       105960       11085   \n",
       "2      129781 2017-07-02 00:00:00   243253       C       359520       13787   \n",
       "3      464848 2017-07-02 00:00:00  1097446       I       359520       13787   \n",
       "4       90569 2017-07-02 00:01:00   663656       C       405490       60305   \n",
       "\n",
       "   product_category_1  product_category_2  user_group_id  gender  age_level  \\\n",
       "0                   4                 NaN           10.0  Female        4.0   \n",
       "1                   5                 NaN            8.0  Female        2.0   \n",
       "2                   4                 NaN            8.0  Female        2.0   \n",
       "3                   3                 NaN            3.0    Male        3.0   \n",
       "4                   3                 NaN            2.0    Male        2.0   \n",
       "\n",
       "   user_depth  city_development_index  var_1  is_click  \n",
       "0         3.0                     3.0      0         0  \n",
       "1         2.0                     NaN      0         0  \n",
       "2         2.0                     NaN      0         0  \n",
       "3         3.0                     2.0      1         0  \n",
       "4         3.0                     2.0      1         0  "
      ]
     },
     "execution_count": 5,
     "metadata": {},
     "output_type": "execute_result"
    }
   ],
   "source": [
    "data.head()"
   ]
  },
  {
   "cell_type": "code",
   "execution_count": 6,
   "metadata": {},
   "outputs": [
    {
     "data": {
      "text/html": [
       "<div>\n",
       "<style scoped>\n",
       "    .dataframe tbody tr th:only-of-type {\n",
       "        vertical-align: middle;\n",
       "    }\n",
       "\n",
       "    .dataframe tbody tr th {\n",
       "        vertical-align: top;\n",
       "    }\n",
       "\n",
       "    .dataframe thead th {\n",
       "        text-align: right;\n",
       "    }\n",
       "</style>\n",
       "<table border=\"1\" class=\"dataframe\">\n",
       "  <thead>\n",
       "    <tr style=\"text-align: right;\">\n",
       "      <th></th>\n",
       "      <th>DateTime</th>\n",
       "      <th>user_id</th>\n",
       "      <th>product</th>\n",
       "      <th>action</th>\n",
       "    </tr>\n",
       "  </thead>\n",
       "  <tbody>\n",
       "    <tr>\n",
       "      <th>0</th>\n",
       "      <td>2017-05-28 15:44:00</td>\n",
       "      <td>704</td>\n",
       "      <td>B</td>\n",
       "      <td>view</td>\n",
       "    </tr>\n",
       "    <tr>\n",
       "      <th>1</th>\n",
       "      <td>2017-05-29 07:08:00</td>\n",
       "      <td>499679</td>\n",
       "      <td>F</td>\n",
       "      <td>view</td>\n",
       "    </tr>\n",
       "    <tr>\n",
       "      <th>2</th>\n",
       "      <td>2017-05-29 07:10:00</td>\n",
       "      <td>499679</td>\n",
       "      <td>G</td>\n",
       "      <td>view</td>\n",
       "    </tr>\n",
       "    <tr>\n",
       "      <th>3</th>\n",
       "      <td>2017-05-29 07:10:00</td>\n",
       "      <td>499679</td>\n",
       "      <td>G</td>\n",
       "      <td>view</td>\n",
       "    </tr>\n",
       "    <tr>\n",
       "      <th>4</th>\n",
       "      <td>2017-05-29 07:10:00</td>\n",
       "      <td>499679</td>\n",
       "      <td>G</td>\n",
       "      <td>view</td>\n",
       "    </tr>\n",
       "  </tbody>\n",
       "</table>\n",
       "</div>"
      ],
      "text/plain": [
       "             DateTime  user_id product action\n",
       "0 2017-05-28 15:44:00      704       B   view\n",
       "1 2017-05-29 07:08:00   499679       F   view\n",
       "2 2017-05-29 07:10:00   499679       G   view\n",
       "3 2017-05-29 07:10:00   499679       G   view\n",
       "4 2017-05-29 07:10:00   499679       G   view"
      ]
     },
     "execution_count": 6,
     "metadata": {},
     "output_type": "execute_result"
    }
   ],
   "source": [
    "hist.head()"
   ]
  },
  {
   "cell_type": "code",
   "execution_count": 7,
   "metadata": {},
   "outputs": [
    {
     "name": "stdout",
     "output_type": "stream",
     "text": [
      "<class 'pandas.core.frame.DataFrame'>\n",
      "RangeIndex: 463291 entries, 0 to 463290\n",
      "Data columns (total 15 columns):\n",
      "session_id                463291 non-null int64\n",
      "DateTime                  463291 non-null datetime64[ns]\n",
      "user_id                   463291 non-null int64\n",
      "product                   463291 non-null object\n",
      "campaign_id               463291 non-null int64\n",
      "webpage_id                463291 non-null int64\n",
      "product_category_1        463291 non-null int64\n",
      "product_category_2        97437 non-null float64\n",
      "user_group_id             445048 non-null float64\n",
      "gender                    445048 non-null object\n",
      "age_level                 445048 non-null float64\n",
      "user_depth                445048 non-null float64\n",
      "city_development_index    338162 non-null float64\n",
      "var_1                     463291 non-null int64\n",
      "is_click                  463291 non-null int64\n",
      "dtypes: datetime64[ns](1), float64(5), int64(7), object(2)\n",
      "memory usage: 53.0+ MB\n"
     ]
    }
   ],
   "source": [
    "data.info()"
   ]
  },
  {
   "cell_type": "code",
   "execution_count": 8,
   "metadata": {},
   "outputs": [
    {
     "data": {
      "text/plain": [
       "<matplotlib.axes._subplots.AxesSubplot at 0x2402930f5f8>"
      ]
     },
     "execution_count": 8,
     "metadata": {},
     "output_type": "execute_result"
    },
    {
     "data": {
      "image/png": "[encoded data removed]",
      "text/plain": [
       "<Figure size 432x288 with 2 Axes>"
      ]
     },
     "metadata": {},
     "output_type": "display_data"
    }
   ],
   "source": [
    "sns.heatmap(data.isnull())"
   ]
  },
  {
   "cell_type": "markdown",
   "metadata": {},
   "source": [
    "### Data Imputation"
   ]
  },
  {
   "cell_type": "code",
   "execution_count": 6,
   "metadata": {
    "scrolled": false
   },
   "outputs": [],
   "source": [
    "# data imputation\n",
    "data = data.drop('product_category_2', axis = 1) # dropping the column \n",
    "# for rest of the columns with missing values, imputing using forward fill.\n",
    "data['city_development_index'] = data['city_development_index'].fillna(method = 'ffill') \n",
    "data['gender'] = data['gender'].fillna(method = 'ffill')\n",
    "data['user_group_id'] = data['user_group_id'].fillna(method = 'ffill')\n",
    "data['age_level'] = data['age_level'].fillna(method = 'ffill')\n",
    "data['user_depth'] = data['user_depth'].fillna(method = 'ffill')"
   ]
  },
  {
   "cell_type": "code",
   "execution_count": 10,
   "metadata": {
    "scrolled": true
   },
   "outputs": [
    {
     "name": "stdout",
     "output_type": "stream",
     "text": [
      "<class 'pandas.core.frame.DataFrame'>\n",
      "RangeIndex: 463291 entries, 0 to 463290\n",
      "Data columns (total 14 columns):\n",
      "session_id                463291 non-null int64\n",
      "DateTime                  463291 non-null datetime64[ns]\n",
      "user_id                   463291 non-null int64\n",
      "product                   463291 non-null object\n",
      "campaign_id               463291 non-null int64\n",
      "webpage_id                463291 non-null int64\n",
      "product_category_1        463291 non-null int64\n",
      "user_group_id             463291 non-null float64\n",
      "gender                    463291 non-null object\n",
      "age_level                 463291 non-null float64\n",
      "user_depth                463291 non-null float64\n",
      "city_development_index    463291 non-null float64\n",
      "var_1                     463291 non-null int64\n",
      "is_click                  463291 non-null int64\n",
      "dtypes: datetime64[ns](1), float64(4), int64(7), object(2)\n",
      "memory usage: 49.5+ MB\n"
     ]
    }
   ],
   "source": [
    "data.info()"
   ]
  },
  {
   "cell_type": "markdown",
   "metadata": {},
   "source": [
    "### Data Visualization"
   ]
  },
  {
   "cell_type": "code",
   "execution_count": 11,
   "metadata": {
    "scrolled": false
   },
   "outputs": [
    {
     "data": {
      "text/plain": [
       "<matplotlib.axes._subplots.AxesSubplot at 0x240006f29b0>"
      ]
     },
     "execution_count": 11,
     "metadata": {},
     "output_type": "execute_result"
    },
    {
     "data": {
      "image/png": "[encoded data removed]",
      "text/plain": [
       "<Figure size 1440x360 with 1 Axes>"
      ]
     },
     "metadata": {},
     "output_type": "display_data"
    }
   ],
   "source": [
    "day = data.groupby('DateTime')['is_click'].sum()\n",
    "day = day.resample('H').sum()\n",
    "plt.figure(figsize=(20,5))\n",
    "day.plot(kind='bar',grid = None)"
   ]
  },
  {
   "cell_type": "markdown",
   "metadata": {},
   "source": [
    "#### Visualizing the trends in the data by setting granularity to per hour on daily basis."
   ]
  },
  {
   "cell_type": "code",
   "execution_count": 12,
   "metadata": {},
   "outputs": [
    {
     "data": {
      "text/plain": [
       "<matplotlib.axes._subplots.AxesSubplot at 0x2400046c588>"
      ]
     },
     "execution_count": 12,
     "metadata": {},
     "output_type": "execute_result"
    },
    {
     "data": {
      "image/png": "[encoded data removed]",
      "text/plain": [
       "<Figure size 1440x360 with 1 Axes>"
      ]
     },
     "metadata": {},
     "output_type": "display_data"
    }
   ],
   "source": [
    "part_day = day.loc[slice('2017-07-02','2017-07-03')]\n",
    "plt.figure(figsize=(20,5))\n",
    "part_day.plot(kind='bar',grid = None)"
   ]
  },
  {
   "cell_type": "markdown",
   "metadata": {},
   "source": [
    "#### Portion of the above plot for 2 days of user data."
   ]
  },
  {
   "cell_type": "code",
   "execution_count": 13,
   "metadata": {},
   "outputs": [
    {
     "data": {
      "text/plain": [
       "<matplotlib.axes._subplots.AxesSubplot at 0x24010c5ecc0>"
      ]
     },
     "execution_count": 13,
     "metadata": {},
     "output_type": "execute_result"
    },
    {
     "data": {
      "image/png": "[encoded data removed]",
      "text/plain": [
       "<Figure size 1440x360 with 1 Axes>"
      ]
     },
     "metadata": {},
     "output_type": "display_data"
    }
   ],
   "source": [
    "data1 = data.reset_index()\n",
    "data1['weekday'] = data1['DateTime'].dt.day_name()\n",
    "byday  = pd.DataFrame(data1.groupby('weekday')['is_click'].sum())\n",
    "byday = byday.reset_index()\n",
    "plt.figure(figsize=(20,5))\n",
    "sns.barplot(data = byday , x= 'weekday', y = 'is_click')"
   ]
  },
  {
   "cell_type": "markdown",
   "metadata": {},
   "source": [
    "#### Visualizing the user behavior on weekday basis. It seems that most of the clicks are for MONDAY & SUNDAY."
   ]
  },
  {
   "cell_type": "code",
   "execution_count": 14,
   "metadata": {},
   "outputs": [
    {
     "data": {
      "text/plain": [
       "<matplotlib.axes._subplots.AxesSubplot at 0x240048624a8>"
      ]
     },
     "execution_count": 14,
     "metadata": {},
     "output_type": "execute_result"
    },
    {
     "data": {
      "image/png": "[encoded data removed]",
      "text/plain": [
       "<Figure size 1440x360 with 1 Axes>"
      ]
     },
     "metadata": {},
     "output_type": "display_data"
    }
   ],
   "source": [
    "user = data.groupby(['gender','product'])['is_click'].sum()\n",
    "user = pd.DataFrame(user.reset_index())\n",
    "plt.figure(figsize=(20,5))\n",
    "sns.barplot(data = user, x= 'product', y = 'is_click', hue = 'gender',palette='Set1')"
   ]
  },
  {
   "cell_type": "markdown",
   "metadata": {},
   "source": [
    "#### Visualizing data for different products for male and female user groups."
   ]
  },
  {
   "cell_type": "code",
   "execution_count": 15,
   "metadata": {},
   "outputs": [
    {
     "data": {
      "text/plain": [
       "<matplotlib.axes._subplots.AxesSubplot at 0x24004945198>"
      ]
     },
     "execution_count": 15,
     "metadata": {},
     "output_type": "execute_result"
    },
    {
     "data": {
      "image/png": "[encoded data removed]",
      "text/plain": [
       "<Figure size 1080x360 with 1 Axes>"
      ]
     },
     "metadata": {},
     "output_type": "display_data"
    }
   ],
   "source": [
    "n_data = data.reset_index()\n",
    "campaign= pd.DataFrame(n_data.groupby(['campaign_id','product'])['is_click'].sum())\n",
    "campaign= campaign.reset_index()\n",
    "campaign= campaign.groupby(['product'])[['campaign_id','is_click']].max()\n",
    "campaign= campaign.sort_values('is_click',ascending = False).reset_index()\n",
    "campaign.columns = ['product', 'campaign_id', 'max click in any campaign']\n",
    "plt.figure(figsize=(15,5))\n",
    "sns.barplot(y= 'product', x= 'max click in any campaign', palette = 'Set1', data = campaign, orient='h')"
   ]
  },
  {
   "cell_type": "markdown",
   "metadata": {},
   "source": [
    "#### Barplot showing max clicks for all the product from a single campaign."
   ]
  },
  {
   "cell_type": "code",
   "execution_count": 16,
   "metadata": {},
   "outputs": [
    {
     "data": {
      "text/html": [
       "<div>\n",
       "<style scoped>\n",
       "    .dataframe tbody tr th:only-of-type {\n",
       "        vertical-align: middle;\n",
       "    }\n",
       "\n",
       "    .dataframe tbody tr th {\n",
       "        vertical-align: top;\n",
       "    }\n",
       "\n",
       "    .dataframe thead th {\n",
       "        text-align: right;\n",
       "    }\n",
       "</style>\n",
       "<table border=\"1\" class=\"dataframe\">\n",
       "  <thead>\n",
       "    <tr style=\"text-align: right;\">\n",
       "      <th></th>\n",
       "      <th>product</th>\n",
       "      <th>is_click</th>\n",
       "    </tr>\n",
       "    <tr>\n",
       "      <th>campaign_id</th>\n",
       "      <th></th>\n",
       "      <th></th>\n",
       "    </tr>\n",
       "  </thead>\n",
       "  <tbody>\n",
       "    <tr>\n",
       "      <th>405490</th>\n",
       "      <td>H</td>\n",
       "      <td>6183</td>\n",
       "    </tr>\n",
       "    <tr>\n",
       "      <th>359520</th>\n",
       "      <td>I</td>\n",
       "      <td>2796</td>\n",
       "    </tr>\n",
       "    <tr>\n",
       "      <th>98970</th>\n",
       "      <td>I</td>\n",
       "      <td>1566</td>\n",
       "    </tr>\n",
       "    <tr>\n",
       "      <th>360936</th>\n",
       "      <td>I</td>\n",
       "      <td>1293</td>\n",
       "    </tr>\n",
       "    <tr>\n",
       "      <th>396664</th>\n",
       "      <td>J</td>\n",
       "      <td>1182</td>\n",
       "    </tr>\n",
       "    <tr>\n",
       "      <th>118601</th>\n",
       "      <td>I</td>\n",
       "      <td>816</td>\n",
       "    </tr>\n",
       "    <tr>\n",
       "      <th>404347</th>\n",
       "      <td>J</td>\n",
       "      <td>805</td>\n",
       "    </tr>\n",
       "    <tr>\n",
       "      <th>105960</th>\n",
       "      <td>I</td>\n",
       "      <td>749</td>\n",
       "    </tr>\n",
       "    <tr>\n",
       "      <th>414149</th>\n",
       "      <td>I</td>\n",
       "      <td>610</td>\n",
       "    </tr>\n",
       "    <tr>\n",
       "      <th>82320</th>\n",
       "      <td>J</td>\n",
       "      <td>428</td>\n",
       "    </tr>\n",
       "  </tbody>\n",
       "</table>\n",
       "</div>"
      ],
      "text/plain": [
       "            product  is_click\n",
       "campaign_id                  \n",
       "405490            H      6183\n",
       "359520            I      2796\n",
       "98970             I      1566\n",
       "360936            I      1293\n",
       "396664            J      1182\n",
       "118601            I       816\n",
       "404347            J       805\n",
       "105960            I       749\n",
       "414149            I       610\n",
       "82320             J       428"
      ]
     },
     "execution_count": 16,
     "metadata": {},
     "output_type": "execute_result"
    }
   ],
   "source": [
    "n_data = data.reset_index()\n",
    "campaign= pd.DataFrame(n_data.groupby(['campaign_id','product'])['is_click'].sum())\n",
    "campaign= campaign.reset_index()\n",
    "campaign= campaign.groupby('campaign_id')[['product','is_click']].max()\n",
    "campaign.sort_values('is_click',ascending = False)"
   ]
  },
  {
   "cell_type": "markdown",
   "metadata": {},
   "source": [
    "#### Table highlighting the most successful product and no. of clicks for each of them for each campaign."
   ]
  },
  {
   "cell_type": "code",
   "execution_count": 17,
   "metadata": {},
   "outputs": [
    {
     "data": {
      "text/plain": [
       "<matplotlib.axes._subplots.AxesSubplot at 0x240049726d8>"
      ]
     },
     "execution_count": 17,
     "metadata": {},
     "output_type": "execute_result"
    },
    {
     "data": {
      "image/png": "[encoded data removed]",
      "text/plain": [
       "<Figure size 1440x360 with 1 Axes>"
      ]
     },
     "metadata": {},
     "output_type": "display_data"
    }
   ],
   "source": [
    "plt.figure(figsize=(20,5))\n",
    "sns.countplot(x= 'user_group_id', hue= 'gender', palette = 'Set1', data = data)"
   ]
  },
  {
   "cell_type": "markdown",
   "metadata": {},
   "source": [
    "#### This visualization highlights that all the user groups from 0-6 are Male and from 7-12 are Females."
   ]
  },
  {
   "cell_type": "code",
   "execution_count": 18,
   "metadata": {},
   "outputs": [
    {
     "data": {
      "text/plain": [
       "<matplotlib.axes._subplots.AxesSubplot at 0x24004c0f8d0>"
      ]
     },
     "execution_count": 18,
     "metadata": {},
     "output_type": "execute_result"
    },
    {
     "data": {
      "image/png": "[encoded data removed]",
      "text/plain": [
       "<Figure size 1080x360 with 1 Axes>"
      ]
     },
     "metadata": {},
     "output_type": "display_data"
    }
   ],
   "source": [
    "plt.figure(figsize=(15,5))\n",
    "user_group = data.groupby('user_group_id')['is_click'].agg(['count','sum'])\n",
    "user_group['%success']= round((user_group['sum']*100)/user_group['count'], 2)\n",
    "user_group = user_group.reset_index()\n",
    "sns.barplot(y= 'user_group_id', x= '%success', data = user_group, palette = 'Set1', order = user_group['%success'])"
   ]
  },
  {
   "cell_type": "markdown",
   "metadata": {},
   "source": [
    "#### successs % on the basis of the user id group. Most successful user group is 12."
   ]
  },
  {
   "cell_type": "code",
   "execution_count": 19,
   "metadata": {},
   "outputs": [
    {
     "data": {
      "text/plain": [
       "<matplotlib.axes._subplots.AxesSubplot at 0x2402771ea90>"
      ]
     },
     "execution_count": 19,
     "metadata": {},
     "output_type": "execute_result"
    },
    {
     "data": {
      "image/png": "[encoded data removed]",
      "text/plain": [
       "<Figure size 1080x216 with 1 Axes>"
      ]
     },
     "metadata": {},
     "output_type": "display_data"
    }
   ],
   "source": [
    "plt.figure(figsize=(15,3))\n",
    "sns.countplot(x=\"product\", hue= \"is_click\", palette = 'Set1', data =data )"
   ]
  },
  {
   "cell_type": "markdown",
   "metadata": {},
   "source": [
    "#### Visualizing count of clicks and non clicks for each of the product."
   ]
  },
  {
   "cell_type": "code",
   "execution_count": 20,
   "metadata": {},
   "outputs": [
    {
     "data": {
      "text/plain": [
       "<matplotlib.axes._subplots.AxesSubplot at 0x24004c8e9b0>"
      ]
     },
     "execution_count": 20,
     "metadata": {},
     "output_type": "execute_result"
    },
    {
     "data": {
      "image/png": "[encoded data removed]",
      "text/plain": [
       "<Figure size 1080x360 with 1 Axes>"
      ]
     },
     "metadata": {},
     "output_type": "display_data"
    }
   ],
   "source": [
    "plt.figure(figsize=(15,5))\n",
    "sns.countplot(x=\"product\", hue= \"product_category_1\", palette = 'Set1', data =data)"
   ]
  },
  {
   "cell_type": "markdown",
   "metadata": {},
   "source": [
    "#### Performance of all the products compared category wise."
   ]
  },
  {
   "cell_type": "code",
   "execution_count": 21,
   "metadata": {},
   "outputs": [
    {
     "data": {
      "text/html": [
       "<div>\n",
       "<style scoped>\n",
       "    .dataframe tbody tr th:only-of-type {\n",
       "        vertical-align: middle;\n",
       "    }\n",
       "\n",
       "    .dataframe tbody tr th {\n",
       "        vertical-align: top;\n",
       "    }\n",
       "\n",
       "    .dataframe thead th {\n",
       "        text-align: right;\n",
       "    }\n",
       "</style>\n",
       "<table border=\"1\" class=\"dataframe\">\n",
       "  <thead>\n",
       "    <tr style=\"text-align: right;\">\n",
       "      <th>is_click</th>\n",
       "      <th>0</th>\n",
       "      <th>1</th>\n",
       "      <th>success %</th>\n",
       "    </tr>\n",
       "    <tr>\n",
       "      <th>user_depth</th>\n",
       "      <th></th>\n",
       "      <th></th>\n",
       "      <th></th>\n",
       "    </tr>\n",
       "  </thead>\n",
       "  <tbody>\n",
       "    <tr>\n",
       "      <th>1.0</th>\n",
       "      <td>11465</td>\n",
       "      <td>878</td>\n",
       "      <td>7.11</td>\n",
       "    </tr>\n",
       "    <tr>\n",
       "      <th>2.0</th>\n",
       "      <td>29523</td>\n",
       "      <td>2070</td>\n",
       "      <td>6.55</td>\n",
       "    </tr>\n",
       "    <tr>\n",
       "      <th>3.0</th>\n",
       "      <td>390972</td>\n",
       "      <td>28383</td>\n",
       "      <td>6.77</td>\n",
       "    </tr>\n",
       "  </tbody>\n",
       "</table>\n",
       "</div>"
      ],
      "text/plain": [
       "is_click         0      1  success %\n",
       "user_depth                          \n",
       "1.0          11465    878       7.11\n",
       "2.0          29523   2070       6.55\n",
       "3.0         390972  28383       6.77"
      ]
     },
     "execution_count": 21,
     "metadata": {},
     "output_type": "execute_result"
    }
   ],
   "source": [
    "data1 = data[['user_depth', 'is_click']]\n",
    "data1 = data.groupby(['user_depth','is_click']).size().unstack()\n",
    "data1['success %'] = round(data1[1]*100/(data1[1]+data1[0]),2)\n",
    "data1"
   ]
  },
  {
   "cell_type": "code",
   "execution_count": 22,
   "metadata": {},
   "outputs": [
    {
     "name": "stdout",
     "output_type": "stream",
     "text": [
      "0    431960\n",
      "1     31331\n",
      "Name: is_click, dtype: int64\n",
      "7.24\n"
     ]
    }
   ],
   "source": [
    "print(data['is_click'].value_counts())\n",
    "print(round(30057*100/(414991),2))  "
   ]
  },
  {
   "cell_type": "markdown",
   "metadata": {},
   "source": [
    "### Number of clicks is only 7.24%. So, our dataset is imbalanced"
   ]
  },
  {
   "cell_type": "markdown",
   "metadata": {},
   "source": [
    "### Feature Engineering & Data Preprocessing"
   ]
  },
  {
   "cell_type": "code",
   "execution_count": 7,
   "metadata": {},
   "outputs": [
    {
     "data": {
      "text/html": [
       "<div>\n",
       "<style scoped>\n",
       "    .dataframe tbody tr th:only-of-type {\n",
       "        vertical-align: middle;\n",
       "    }\n",
       "\n",
       "    .dataframe tbody tr th {\n",
       "        vertical-align: top;\n",
       "    }\n",
       "\n",
       "    .dataframe thead th {\n",
       "        text-align: right;\n",
       "    }\n",
       "</style>\n",
       "<table border=\"1\" class=\"dataframe\">\n",
       "  <thead>\n",
       "    <tr style=\"text-align: right;\">\n",
       "      <th></th>\n",
       "      <th>user_id</th>\n",
       "      <th>product</th>\n",
       "      <th>campaign_id</th>\n",
       "      <th>webpage_id</th>\n",
       "      <th>product_category_1</th>\n",
       "      <th>user_group_id</th>\n",
       "      <th>gender</th>\n",
       "      <th>age_level</th>\n",
       "      <th>user_depth</th>\n",
       "      <th>city_development_index</th>\n",
       "      <th>var_1</th>\n",
       "      <th>is_click</th>\n",
       "      <th>weekday</th>\n",
       "      <th>hour</th>\n",
       "      <th>minutes</th>\n",
       "    </tr>\n",
       "  </thead>\n",
       "  <tbody>\n",
       "    <tr>\n",
       "      <th>0</th>\n",
       "      <td>858557</td>\n",
       "      <td>C</td>\n",
       "      <td>359520</td>\n",
       "      <td>13787</td>\n",
       "      <td>4</td>\n",
       "      <td>10.0</td>\n",
       "      <td>Female</td>\n",
       "      <td>4.0</td>\n",
       "      <td>3.0</td>\n",
       "      <td>3.0</td>\n",
       "      <td>0</td>\n",
       "      <td>0</td>\n",
       "      <td>Sunday</td>\n",
       "      <td>0</td>\n",
       "      <td>0</td>\n",
       "    </tr>\n",
       "    <tr>\n",
       "      <th>1</th>\n",
       "      <td>243253</td>\n",
       "      <td>C</td>\n",
       "      <td>105960</td>\n",
       "      <td>11085</td>\n",
       "      <td>5</td>\n",
       "      <td>8.0</td>\n",
       "      <td>Female</td>\n",
       "      <td>2.0</td>\n",
       "      <td>2.0</td>\n",
       "      <td>3.0</td>\n",
       "      <td>0</td>\n",
       "      <td>0</td>\n",
       "      <td>Sunday</td>\n",
       "      <td>0</td>\n",
       "      <td>0</td>\n",
       "    </tr>\n",
       "    <tr>\n",
       "      <th>2</th>\n",
       "      <td>243253</td>\n",
       "      <td>C</td>\n",
       "      <td>359520</td>\n",
       "      <td>13787</td>\n",
       "      <td>4</td>\n",
       "      <td>8.0</td>\n",
       "      <td>Female</td>\n",
       "      <td>2.0</td>\n",
       "      <td>2.0</td>\n",
       "      <td>3.0</td>\n",
       "      <td>0</td>\n",
       "      <td>0</td>\n",
       "      <td>Sunday</td>\n",
       "      <td>0</td>\n",
       "      <td>0</td>\n",
       "    </tr>\n",
       "    <tr>\n",
       "      <th>3</th>\n",
       "      <td>1097446</td>\n",
       "      <td>I</td>\n",
       "      <td>359520</td>\n",
       "      <td>13787</td>\n",
       "      <td>3</td>\n",
       "      <td>3.0</td>\n",
       "      <td>Male</td>\n",
       "      <td>3.0</td>\n",
       "      <td>3.0</td>\n",
       "      <td>2.0</td>\n",
       "      <td>1</td>\n",
       "      <td>0</td>\n",
       "      <td>Sunday</td>\n",
       "      <td>0</td>\n",
       "      <td>0</td>\n",
       "    </tr>\n",
       "    <tr>\n",
       "      <th>4</th>\n",
       "      <td>663656</td>\n",
       "      <td>C</td>\n",
       "      <td>405490</td>\n",
       "      <td>60305</td>\n",
       "      <td>3</td>\n",
       "      <td>2.0</td>\n",
       "      <td>Male</td>\n",
       "      <td>2.0</td>\n",
       "      <td>3.0</td>\n",
       "      <td>2.0</td>\n",
       "      <td>1</td>\n",
       "      <td>0</td>\n",
       "      <td>Sunday</td>\n",
       "      <td>0</td>\n",
       "      <td>1</td>\n",
       "    </tr>\n",
       "  </tbody>\n",
       "</table>\n",
       "</div>"
      ],
      "text/plain": [
       "   user_id product  campaign_id  webpage_id  product_category_1  \\\n",
       "0   858557       C       359520       13787                   4   \n",
       "1   243253       C       105960       11085                   5   \n",
       "2   243253       C       359520       13787                   4   \n",
       "3  1097446       I       359520       13787                   3   \n",
       "4   663656       C       405490       60305                   3   \n",
       "\n",
       "   user_group_id  gender  age_level  user_depth  city_development_index  \\\n",
       "0           10.0  Female        4.0         3.0                     3.0   \n",
       "1            8.0  Female        2.0         2.0                     3.0   \n",
       "2            8.0  Female        2.0         2.0                     3.0   \n",
       "3            3.0    Male        3.0         3.0                     2.0   \n",
       "4            2.0    Male        2.0         3.0                     2.0   \n",
       "\n",
       "   var_1  is_click weekday  hour  minutes  \n",
       "0      0         0  Sunday     0        0  \n",
       "1      0         0  Sunday     0        0  \n",
       "2      0         0  Sunday     0        0  \n",
       "3      1         0  Sunday     0        0  \n",
       "4      1         0  Sunday     0        1  "
      ]
     },
     "execution_count": 7,
     "metadata": {},
     "output_type": "execute_result"
    }
   ],
   "source": [
    "data['weekday']=data['DateTime'].dt.day_name()\n",
    "data['hour'] = data['DateTime'].dt.hour\n",
    "data['minutes'] = data['DateTime'].dt.minute\n",
    "data = data.drop(['DateTime','session_id'], axis = 1)\n",
    "data.head()"
   ]
  },
  {
   "cell_type": "code",
   "execution_count": 8,
   "metadata": {},
   "outputs": [],
   "source": [
    "es1 = ft.EntitySet()"
   ]
  },
  {
   "cell_type": "code",
   "execution_count": 9,
   "metadata": {},
   "outputs": [],
   "source": [
    "es1 = es1.entity_from_dataframe(entity_id= 'hist', \n",
    "                                dataframe= hist,\n",
    "                                make_index = True,\n",
    "                                index = 'id',\n",
    "                                time_index = 'DateTime',\n",
    "                                variable_types={\"user_id\": ft.variable_types.Categorical})\n",
    "                                       "
   ]
  },
  {
   "cell_type": "code",
   "execution_count": 10,
   "metadata": {},
   "outputs": [
    {
     "data": {
      "text/plain": [
       "[<Variable: id (dtype = index)>,\n",
       " <Variable: DateTime (dtype: datetime_time_index, format: None)>,\n",
       " <Variable: product (dtype = categorical)>,\n",
       " <Variable: action (dtype = categorical)>,\n",
       " <Variable: user_id (dtype = categorical)>]"
      ]
     },
     "execution_count": 10,
     "metadata": {},
     "output_type": "execute_result"
    }
   ],
   "source": [
    "es1['hist'].variables"
   ]
  },
  {
   "cell_type": "code",
   "execution_count": 11,
   "metadata": {},
   "outputs": [],
   "source": [
    "es1 = es1.entity_from_dataframe(entity_id = 'data', \n",
    "                                dataframe= data, \n",
    "                                make_index= True, \n",
    "                                index = 'id',\n",
    "                                variable_types={\"user_id\": ft.variable_types.Categorical, \n",
    "                                                'webpage_id': ft.variable_types.Categorical,\n",
    "                                                'campaign_id': ft.variable_types.Categorical,\n",
    "                                                'product_category_1': ft.variable_types.Categorical,\n",
    "                                                'user_group_id':  ft.variable_types.Categorical,\n",
    "                                                'age_level': ft.variable_types.Categorical,\n",
    "                                                'user_depth': ft.variable_types.Categorical,\n",
    "                                                'city_development_index': ft.variable_types.Categorical,\n",
    "                                                'var_1': ft.variable_types.Categorical ,\n",
    "                                                'is_click': ft.variable_types.Categorical\n",
    "                                               })          "
   ]
  },
  {
   "cell_type": "code",
   "execution_count": 12,
   "metadata": {},
   "outputs": [
    {
     "data": {
      "text/plain": [
       "[<Variable: id (dtype = index)>,\n",
       " <Variable: product (dtype = categorical)>,\n",
       " <Variable: gender (dtype = categorical)>,\n",
       " <Variable: weekday (dtype = categorical)>,\n",
       " <Variable: hour (dtype = numeric)>,\n",
       " <Variable: minutes (dtype = numeric)>,\n",
       " <Variable: user_id (dtype = categorical)>,\n",
       " <Variable: webpage_id (dtype = categorical)>,\n",
       " <Variable: campaign_id (dtype = categorical)>,\n",
       " <Variable: product_category_1 (dtype = categorical)>,\n",
       " <Variable: user_group_id (dtype = categorical)>,\n",
       " <Variable: age_level (dtype = categorical)>,\n",
       " <Variable: user_depth (dtype = categorical)>,\n",
       " <Variable: city_development_index (dtype = categorical)>,\n",
       " <Variable: var_1 (dtype = categorical)>,\n",
       " <Variable: is_click (dtype = categorical)>]"
      ]
     },
     "execution_count": 12,
     "metadata": {},
     "output_type": "execute_result"
    }
   ],
   "source": [
    "es1['data'].variables"
   ]
  },
  {
   "cell_type": "code",
   "execution_count": 13,
   "metadata": {},
   "outputs": [],
   "source": [
    "relation = ft.Relationship(es1['data']['id'], es1['hist']['id'])"
   ]
  },
  {
   "cell_type": "code",
   "execution_count": 14,
   "metadata": {},
   "outputs": [
    {
     "data": {
      "text/plain": [
       "Entityset: None\n",
       "  Entities:\n",
       "    hist [Rows: 24287534, Columns: 5]\n",
       "    data [Rows: 463291, Columns: 16]\n",
       "  Relationships:\n",
       "    hist.id -> data.id"
      ]
     },
     "execution_count": 14,
     "metadata": {},
     "output_type": "execute_result"
    }
   ],
   "source": [
    "es1 = es1.add_relationship(relation)\n",
    "es1"
   ]
  },
  {
   "cell_type": "code",
   "execution_count": 15,
   "metadata": {},
   "outputs": [],
   "source": [
    "features, feature_names = ft.dfs(entityset= es1, \n",
    "                                 target_entity= 'data', \n",
    "                                  max_depth = 2\n",
    "                                 )"
   ]
  },
  {
   "cell_type": "code",
   "execution_count": 16,
   "metadata": {},
   "outputs": [
    {
     "name": "stdout",
     "output_type": "stream",
     "text": [
      "<class 'pandas.core.frame.DataFrame'>\n",
      "Int64Index: 463291 entries, 0 to 463290\n",
      "Data columns (total 29 columns):\n",
      "product                               463291 non-null object\n",
      "gender                                463291 non-null object\n",
      "weekday                               463291 non-null object\n",
      "hour                                  463291 non-null int64\n",
      "minutes                               463291 non-null int64\n",
      "user_id                               463291 non-null int64\n",
      "webpage_id                            463291 non-null int64\n",
      "campaign_id                           463291 non-null int64\n",
      "product_category_1                    463291 non-null int64\n",
      "user_group_id                         463291 non-null float64\n",
      "age_level                             463291 non-null float64\n",
      "user_depth                            463291 non-null float64\n",
      "city_development_index                463291 non-null float64\n",
      "var_1                                 463291 non-null int64\n",
      "is_click                              463291 non-null int64\n",
      "NUM_UNIQUE(hist.product)              463291 non-null int64\n",
      "NUM_UNIQUE(hist.action)               463291 non-null int64\n",
      "NUM_UNIQUE(hist.user_id)              463291 non-null int64\n",
      "MODE(hist.product)                    463291 non-null object\n",
      "MODE(hist.action)                     463291 non-null object\n",
      "MODE(hist.user_id)                    463291 non-null int64\n",
      "NUM_UNIQUE(hist.DAY(DateTime))        463291 non-null int64\n",
      "NUM_UNIQUE(hist.YEAR(DateTime))       463291 non-null int64\n",
      "NUM_UNIQUE(hist.MONTH(DateTime))      463291 non-null int64\n",
      "NUM_UNIQUE(hist.WEEKDAY(DateTime))    463291 non-null int64\n",
      "MODE(hist.DAY(DateTime))              463291 non-null int64\n",
      "MODE(hist.YEAR(DateTime))             463291 non-null int64\n",
      "MODE(hist.MONTH(DateTime))            463291 non-null int64\n",
      "MODE(hist.WEEKDAY(DateTime))          463291 non-null int64\n",
      "dtypes: float64(4), int64(20), object(5)\n",
      "memory usage: 106.0+ MB\n"
     ]
    }
   ],
   "source": [
    "features.info()"
   ]
  },
  {
   "cell_type": "code",
   "execution_count": 17,
   "metadata": {},
   "outputs": [],
   "source": [
    "col =['product','gender','weekday','webpage_id','campaign_id','product_category_1','user_group_id','age_level','user_depth','var_1','city_development_index','MODE(hist.product)','MODE(hist.action)']\n",
    "new_data = pd.get_dummies(features, columns = col, drop_first= True)"
   ]
  },
  {
   "cell_type": "code",
   "execution_count": 18,
   "metadata": {},
   "outputs": [
    {
     "name": "stdout",
     "output_type": "stream",
     "text": [
      "<class 'pandas.core.frame.DataFrame'>\n",
      "Int64Index: 463291 entries, 0 to 463290\n",
      "Data columns (total 86 columns):\n",
      "hour                                  463291 non-null int64\n",
      "minutes                               463291 non-null int64\n",
      "user_id                               463291 non-null int64\n",
      "is_click                              463291 non-null int64\n",
      "NUM_UNIQUE(hist.product)              463291 non-null int64\n",
      "NUM_UNIQUE(hist.action)               463291 non-null int64\n",
      "NUM_UNIQUE(hist.user_id)              463291 non-null int64\n",
      "MODE(hist.user_id)                    463291 non-null int64\n",
      "NUM_UNIQUE(hist.DAY(DateTime))        463291 non-null int64\n",
      "NUM_UNIQUE(hist.YEAR(DateTime))       463291 non-null int64\n",
      "NUM_UNIQUE(hist.MONTH(DateTime))      463291 non-null int64\n",
      "NUM_UNIQUE(hist.WEEKDAY(DateTime))    463291 non-null int64\n",
      "MODE(hist.DAY(DateTime))              463291 non-null int64\n",
      "MODE(hist.YEAR(DateTime))             463291 non-null int64\n",
      "MODE(hist.MONTH(DateTime))            463291 non-null int64\n",
      "MODE(hist.WEEKDAY(DateTime))          463291 non-null int64\n",
      "product_B                             463291 non-null uint8\n",
      "product_C                             463291 non-null uint8\n",
      "product_D                             463291 non-null uint8\n",
      "product_E                             463291 non-null uint8\n",
      "product_F                             463291 non-null uint8\n",
      "product_G                             463291 non-null uint8\n",
      "product_H                             463291 non-null uint8\n",
      "product_I                             463291 non-null uint8\n",
      "product_J                             463291 non-null uint8\n",
      "gender_Male                           463291 non-null uint8\n",
      "weekday_Monday                        463291 non-null uint8\n",
      "weekday_Sunday                        463291 non-null uint8\n",
      "weekday_Thursday                      463291 non-null uint8\n",
      "weekday_Tuesday                       463291 non-null uint8\n",
      "weekday_Wednesday                     463291 non-null uint8\n",
      "webpage_id_6970                       463291 non-null uint8\n",
      "webpage_id_11085                      463291 non-null uint8\n",
      "webpage_id_13787                      463291 non-null uint8\n",
      "webpage_id_28529                      463291 non-null uint8\n",
      "webpage_id_45962                      463291 non-null uint8\n",
      "webpage_id_51181                      463291 non-null uint8\n",
      "webpage_id_53587                      463291 non-null uint8\n",
      "webpage_id_60305                      463291 non-null uint8\n",
      "campaign_id_98970                     463291 non-null uint8\n",
      "campaign_id_105960                    463291 non-null uint8\n",
      "campaign_id_118601                    463291 non-null uint8\n",
      "campaign_id_359520                    463291 non-null uint8\n",
      "campaign_id_360936                    463291 non-null uint8\n",
      "campaign_id_396664                    463291 non-null uint8\n",
      "campaign_id_404347                    463291 non-null uint8\n",
      "campaign_id_405490                    463291 non-null uint8\n",
      "campaign_id_414149                    463291 non-null uint8\n",
      "product_category_1_2                  463291 non-null uint8\n",
      "product_category_1_3                  463291 non-null uint8\n",
      "product_category_1_4                  463291 non-null uint8\n",
      "product_category_1_5                  463291 non-null uint8\n",
      "user_group_id_1.0                     463291 non-null uint8\n",
      "user_group_id_2.0                     463291 non-null uint8\n",
      "user_group_id_3.0                     463291 non-null uint8\n",
      "user_group_id_4.0                     463291 non-null uint8\n",
      "user_group_id_5.0                     463291 non-null uint8\n",
      "user_group_id_6.0                     463291 non-null uint8\n",
      "user_group_id_7.0                     463291 non-null uint8\n",
      "user_group_id_8.0                     463291 non-null uint8\n",
      "user_group_id_9.0                     463291 non-null uint8\n",
      "user_group_id_10.0                    463291 non-null uint8\n",
      "user_group_id_11.0                    463291 non-null uint8\n",
      "user_group_id_12.0                    463291 non-null uint8\n",
      "age_level_1.0                         463291 non-null uint8\n",
      "age_level_2.0                         463291 non-null uint8\n",
      "age_level_3.0                         463291 non-null uint8\n",
      "age_level_4.0                         463291 non-null uint8\n",
      "age_level_5.0                         463291 non-null uint8\n",
      "age_level_6.0                         463291 non-null uint8\n",
      "user_depth_2.0                        463291 non-null uint8\n",
      "user_depth_3.0                        463291 non-null uint8\n",
      "var_1_1                               463291 non-null uint8\n",
      "city_development_index_2.0            463291 non-null uint8\n",
      "city_development_index_3.0            463291 non-null uint8\n",
      "city_development_index_4.0            463291 non-null uint8\n",
      "MODE(hist.product)_B                  463291 non-null uint8\n",
      "MODE(hist.product)_C                  463291 non-null uint8\n",
      "MODE(hist.product)_D                  463291 non-null uint8\n",
      "MODE(hist.product)_E                  463291 non-null uint8\n",
      "MODE(hist.product)_F                  463291 non-null uint8\n",
      "MODE(hist.product)_G                  463291 non-null uint8\n",
      "MODE(hist.product)_H                  463291 non-null uint8\n",
      "MODE(hist.product)_I                  463291 non-null uint8\n",
      "MODE(hist.product)_J                  463291 non-null uint8\n",
      "MODE(hist.action)_view                463291 non-null uint8\n",
      "dtypes: int64(16), uint8(70)\n",
      "memory usage: 91.0 MB\n"
     ]
    }
   ],
   "source": [
    "new_data.info()"
   ]
  },
  {
   "cell_type": "code",
   "execution_count": 19,
   "metadata": {},
   "outputs": [],
   "source": [
    "X = new_data.drop('is_click', axis=1)\n",
    "y = new_data['is_click']"
   ]
  },
  {
   "cell_type": "code",
   "execution_count": 20,
   "metadata": {},
   "outputs": [],
   "source": [
    "from sklearn.model_selection import train_test_split\n",
    "X_train,X_test,y_train,y_test = train_test_split(X,y, test_size = 0.3,  stratify = y,random_state = 101)"
   ]
  },
  {
   "cell_type": "code",
   "execution_count": 21,
   "metadata": {},
   "outputs": [],
   "source": [
    "train = pd.concat([X_train, y_train], axis = 1)"
   ]
  },
  {
   "cell_type": "code",
   "execution_count": 23,
   "metadata": {},
   "outputs": [],
   "source": [
    "t_0 = train[train['is_click'] == 0]\n",
    "t_1 = train[train['is_click'] == 1]"
   ]
  },
  {
   "cell_type": "markdown",
   "metadata": {},
   "source": [
    "#### Working with a subset of Training Data"
   ]
  },
  {
   "cell_type": "code",
   "execution_count": 24,
   "metadata": {},
   "outputs": [],
   "source": [
    "t0_sub = t_0.sample(n = 27573, random_state= 101)\n",
    "t1_sub = t_1.sample(n = 2000, random_state= 101)\n",
    "train_sub = pd.concat([t0_sub,t1_sub], axis = 0)\n",
    "train_sub = train_sub.sample(frac=1, random_state= 101)"
   ]
  },
  {
   "cell_type": "code",
   "execution_count": 25,
   "metadata": {},
   "outputs": [],
   "source": [
    "Xtr_sub = train_sub.drop('is_click', axis=1)\n",
    "ytr_sub = train_sub['is_click']"
   ]
  },
  {
   "cell_type": "code",
   "execution_count": 26,
   "metadata": {},
   "outputs": [],
   "source": [
    "from imblearn.over_sampling import SMOTE"
   ]
  },
  {
   "cell_type": "code",
   "execution_count": 27,
   "metadata": {},
   "outputs": [],
   "source": [
    "sm = SMOTE(random_state = 101)\n",
    "X_sub, y_sub  = sm.fit_sample(Xtr_sub,ytr_sub)"
   ]
  },
  {
   "cell_type": "code",
   "execution_count": 28,
   "metadata": {},
   "outputs": [
    {
     "data": {
      "text/plain": [
       "((55146, 85), (55146,))"
      ]
     },
     "execution_count": 28,
     "metadata": {},
     "output_type": "execute_result"
    }
   ],
   "source": [
    "X_sub.shape, y_sub.shape"
   ]
  },
  {
   "cell_type": "markdown",
   "metadata": {},
   "source": [
    "#### Feature Selection"
   ]
  },
  {
   "cell_type": "code",
   "execution_count": 29,
   "metadata": {},
   "outputs": [],
   "source": [
    "from sklearn.feature_selection import RFE\n",
    "from sklearn.linear_model import LogisticRegression"
   ]
  },
  {
   "cell_type": "code",
   "execution_count": 30,
   "metadata": {},
   "outputs": [
    {
     "name": "stdout",
     "output_type": "stream",
     "text": [
      "Fitting estimator with 85 features.\n",
      "Fitting estimator with 84 features.\n",
      "Fitting estimator with 83 features.\n",
      "Fitting estimator with 82 features.\n",
      "Fitting estimator with 81 features.\n",
      "Fitting estimator with 80 features.\n",
      "Fitting estimator with 79 features.\n",
      "Fitting estimator with 78 features.\n",
      "Fitting estimator with 77 features.\n",
      "Fitting estimator with 76 features.\n"
     ]
    }
   ],
   "source": [
    "model = LogisticRegression()\n",
    "rfe = RFE(model, n_features_to_select=75, verbose= 1)\n",
    "fit = rfe.fit(X_sub,y_sub)"
   ]
  },
  {
   "cell_type": "code",
   "execution_count": 31,
   "metadata": {},
   "outputs": [
    {
     "data": {
      "text/plain": [
       "75"
      ]
     },
     "execution_count": 31,
     "metadata": {},
     "output_type": "execute_result"
    }
   ],
   "source": [
    "sum(fit.support_)"
   ]
  },
  {
   "cell_type": "code",
   "execution_count": 32,
   "metadata": {},
   "outputs": [
    {
     "data": {
      "text/plain": [
       "(55146, 75)"
      ]
     },
     "execution_count": 32,
     "metadata": {},
     "output_type": "execute_result"
    }
   ],
   "source": [
    "X_sub = pd.DataFrame(X_sub, columns= Xtr_sub.columns)\n",
    "X_sub = np.array(X_sub.loc[:,fit.support_])\n",
    "X_sub.shape"
   ]
  },
  {
   "cell_type": "code",
   "execution_count": 76,
   "metadata": {},
   "outputs": [
    {
     "ename": "AttributeError",
     "evalue": "'numpy.ndarray' object has no attribute 'loc'",
     "output_type": "error",
     "traceback": [
      "\u001b[1;31m---------------------------------------------------------------------------\u001b[0m",
      "\u001b[1;31mAttributeError\u001b[0m                            Traceback (most recent call last)",
      "\u001b[1;32m<ipython-input-76-b231ca27507a>\u001b[0m in \u001b[0;36m<module>\u001b[1;34m()\u001b[0m\n\u001b[1;32m----> 1\u001b[1;33m \u001b[0mX_test\u001b[0m \u001b[1;33m=\u001b[0m \u001b[0mnp\u001b[0m\u001b[1;33m.\u001b[0m\u001b[0marray\u001b[0m\u001b[1;33m(\u001b[0m\u001b[0mX_test\u001b[0m\u001b[1;33m.\u001b[0m\u001b[0mloc\u001b[0m\u001b[1;33m[\u001b[0m\u001b[1;33m:\u001b[0m\u001b[1;33m,\u001b[0m\u001b[0mfit\u001b[0m\u001b[1;33m.\u001b[0m\u001b[0msupport_\u001b[0m\u001b[1;33m]\u001b[0m\u001b[1;33m)\u001b[0m\u001b[1;33m\u001b[0m\u001b[0m\n\u001b[0m",
      "\u001b[1;31mAttributeError\u001b[0m: 'numpy.ndarray' object has no attribute 'loc'"
     ]
    }
   ],
   "source": [
    "X_test = np.array(X_test.loc[:,fit.support_])"
   ]
  },
  {
   "cell_type": "code",
   "execution_count": 33,
   "metadata": {},
   "outputs": [
    {
     "data": {
      "text/plain": [
       "numpy.ndarray"
      ]
     },
     "execution_count": 33,
     "metadata": {},
     "output_type": "execute_result"
    }
   ],
   "source": [
    "type(X_sub)"
   ]
  },
  {
   "cell_type": "code",
   "execution_count": 34,
   "metadata": {},
   "outputs": [
    {
     "name": "stdout",
     "output_type": "stream",
     "text": [
      "              precision    recall  f1-score   support\n",
      "\n",
      "           0       0.94      0.55      0.70    129589\n",
      "           1       0.08      0.55      0.14      9399\n",
      "\n",
      "   micro avg       0.55      0.55      0.55    138988\n",
      "   macro avg       0.51      0.55      0.42    138988\n",
      "weighted avg       0.89      0.55      0.66    138988\n",
      "\n"
     ]
    }
   ],
   "source": [
    "y_pred = fit.predict(X_test)\n",
    "matrix =classification_report(y_test,y_pred)\n",
    "print(matrix)"
   ]
  },
  {
   "cell_type": "code",
   "execution_count": 35,
   "metadata": {},
   "outputs": [
    {
     "data": {
      "text/plain": [
       "array([[71325, 58264],\n",
       "       [ 4219,  5180]], dtype=int64)"
      ]
     },
     "execution_count": 35,
     "metadata": {},
     "output_type": "execute_result"
    }
   ],
   "source": [
    "confusion_matrix(y_test,y_pred)"
   ]
  },
  {
   "cell_type": "code",
   "execution_count": 36,
   "metadata": {},
   "outputs": [
    {
     "data": {
      "text/plain": [
       "0.5507581987966078"
      ]
     },
     "execution_count": 36,
     "metadata": {},
     "output_type": "execute_result"
    }
   ],
   "source": [
    "roc_auc_score(y_test,y_pred)"
   ]
  },
  {
   "cell_type": "markdown",
   "metadata": {},
   "source": [
    "#### 75 features seems to be optimum\n",
    "\n",
    "#### Logistic Regreession is our base model with roc_auc score of 0.55"
   ]
  },
  {
   "cell_type": "markdown",
   "metadata": {},
   "source": [
    "### Data Modelling"
   ]
  },
  {
   "cell_type": "code",
   "execution_count": 38,
   "metadata": {},
   "outputs": [],
   "source": [
    "def best_model(estimator,grid, refit_score, scorer):\n",
    "    grid_search = GridSearchCV(estimator, param_grid=grid, scoring= scorer, refit= refit_score, cv = skf,n_jobs= -1)\n",
    "    grid_search.fit(X_sub, y_sub)\n",
    "    \n",
    "    pred = grid_search.predict(X_test)\n",
    "    \n",
    "    print('Best params for {}'.format(refit_score))\n",
    "    print(grid_search.best_params_)\n",
    "    \n",
    "    print(pd.DataFrame(confusion_matrix(y_test, pred),columns=['pred_neg', 'pred_pos'], index=['neg', 'pos']))\n",
    "    \n",
    "    print('roc-auc : %0.2f'  % roc_auc_score(y_test, pred))\n",
    "    \n",
    "    feat_imp = pd.Series(alg.booster().get_fscore()).sort_values(ascending=False)\n",
    "    feat_imp.plot(kind='bar', title='Feature Importances')\n",
    "    plt.ylabel('Feature Importance Score')\n",
    "    \n",
    "    return grid_search"
   ]
  },
  {
   "cell_type": "code",
   "execution_count": 39,
   "metadata": {},
   "outputs": [],
   "source": [
    "skf = StratifiedKFold(n_splits=5, random_state=101)\n",
    "scorers = ['recall']"
   ]
  },
  {
   "cell_type": "markdown",
   "metadata": {},
   "source": [
    "#### Decision Tree"
   ]
  },
  {
   "cell_type": "code",
   "execution_count": 74,
   "metadata": {},
   "outputs": [],
   "source": [
    "from sklearn.tree import DecisionTreeClassifier"
   ]
  },
  {
   "cell_type": "code",
   "execution_count": 75,
   "metadata": {},
   "outputs": [],
   "source": [
    "dctree = DecisionTreeClassifier()"
   ]
  },
  {
   "cell_type": "code",
   "execution_count": 76,
   "metadata": {},
   "outputs": [],
   "source": [
    "para_grid = {\n",
    "    'criterion': ['entropy', 'gini'],\n",
    "    'min_samples_split': [2],\n",
    "    'max_depth': [30,35,40],\n",
    "    'max_features': [20, 25,27]\n",
    "}"
   ]
  },
  {
   "cell_type": "code",
   "execution_count": 77,
   "metadata": {},
   "outputs": [
    {
     "name": "stdout",
     "output_type": "stream",
     "text": [
      "Best params for recall\n",
      "{'criterion': 'entropy', 'max_depth': 35, 'max_features': 25, 'min_samples_split': 2}\n",
      "     pred_neg  pred_pos\n",
      "neg    119765      9824\n",
      "pos      8628       771\n",
      "roc-auc : 0.50\n"
     ]
    },
    {
     "data": {
      "text/plain": [
       "GridSearchCV(cv=StratifiedKFold(n_splits=5, random_state=101, shuffle=False),\n",
       "       error_score='raise-deprecating',\n",
       "       estimator=DecisionTreeClassifier(class_weight=None, criterion='gini', max_depth=None,\n",
       "            max_features=None, max_leaf_nodes=None,\n",
       "            min_impurity_decrease=0.0, min_impurity_split=None,\n",
       "            min_samples_leaf=1, min_samples_split=2,\n",
       "            min_weight_fraction_leaf=0.0, presort=False, random_state=None,\n",
       "            splitter='best'),\n",
       "       fit_params=None, iid='warn', n_jobs=-1,\n",
       "       param_grid={'criterion': ['entropy', 'gini'], 'min_samples_split': [2], 'max_depth': [30, 35, 40], 'max_features': [20, 25, 27]},\n",
       "       pre_dispatch='2*n_jobs', refit='recall', return_train_score='warn',\n",
       "       scoring=['recall'], verbose=0)"
      ]
     },
     "execution_count": 77,
     "metadata": {},
     "output_type": "execute_result"
    }
   ],
   "source": [
    "best_model(estimator= dctree, grid= para_grid, refit_score= 'recall', scorer= scorers)"
   ]
  },
  {
   "cell_type": "markdown",
   "metadata": {},
   "source": [
    "#### Random Forest"
   ]
  },
  {
   "cell_type": "code",
   "execution_count": 92,
   "metadata": {},
   "outputs": [],
   "source": [
    "from sklearn.ensemble import RandomForestClassifier"
   ]
  },
  {
   "cell_type": "code",
   "execution_count": 93,
   "metadata": {},
   "outputs": [],
   "source": [
    "rf = RandomForestClassifier()"
   ]
  },
  {
   "cell_type": "code",
   "execution_count": 106,
   "metadata": {},
   "outputs": [],
   "source": [
    "para_grid = {\n",
    "    'min_samples_split': [2], \n",
    "    'n_estimators' : [300],\n",
    "    'max_depth': [25],\n",
    "    'max_features': [40, 45],\n",
    "}"
   ]
  },
  {
   "cell_type": "code",
   "execution_count": 107,
   "metadata": {},
   "outputs": [
    {
     "name": "stdout",
     "output_type": "stream",
     "text": [
      "Best params for recall\n",
      "{'max_depth': 25, 'max_features': 45, 'min_samples_split': 2, 'n_estimators': 300}\n",
      "     pred_neg  pred_pos\n",
      "neg    129374       215\n",
      "pos      9379        20\n",
      "roc-auc : 0.50\n"
     ]
    },
    {
     "data": {
      "text/plain": [
       "GridSearchCV(cv=StratifiedKFold(n_splits=5, random_state=101, shuffle=False),\n",
       "       error_score='raise-deprecating',\n",
       "       estimator=RandomForestClassifier(bootstrap=True, class_weight=None, criterion='gini',\n",
       "            max_depth=None, max_features='auto', max_leaf_nodes=None,\n",
       "            min_impurity_decrease=0.0, min_impurity_split=None,\n",
       "            min_samples_leaf=1, min_samples_split=2,\n",
       "            min_weight_fraction_leaf=0.0, n_estimators='warn', n_jobs=None,\n",
       "            oob_score=False, random_state=None, verbose=0,\n",
       "            warm_start=False),\n",
       "       fit_params=None, iid='warn', n_jobs=-1,\n",
       "       param_grid={'min_samples_split': [2], 'n_estimators': [300], 'max_depth': [25], 'max_features': [40, 45]},\n",
       "       pre_dispatch='2*n_jobs', refit='recall', return_train_score='warn',\n",
       "       scoring=['recall'], verbose=0)"
      ]
     },
     "execution_count": 107,
     "metadata": {},
     "output_type": "execute_result"
    }
   ],
   "source": [
    "best_model(estimator= rf, grid= para_grid, refit_score= 'recall', scorer= scorers)"
   ]
  },
  {
   "cell_type": "markdown",
   "metadata": {},
   "source": [
    "#### Thus, we can see a simple model sometimes give better results than complex algorithms."
   ]
  }
 ],
 "metadata": {
  "kernelspec": {
   "display_name": "Python 3",
   "language": "python",
   "name": "python3"
  },
  "language_info": {
   "codemirror_mode": {
    "name": "ipython",
    "version": 3
   },
   "file_extension": ".py",
   "mimetype": "text/x-python",
   "name": "python",
   "nbconvert_exporter": "python",
   "pygments_lexer": "ipython3",
   "version": "3.6.5"
  }
 },
 "nbformat": 4,
 "nbformat_minor": 2
}
